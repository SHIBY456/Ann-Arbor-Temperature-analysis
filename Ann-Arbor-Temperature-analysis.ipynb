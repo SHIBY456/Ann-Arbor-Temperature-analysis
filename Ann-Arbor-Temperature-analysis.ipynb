{
 "cells": [
  {
   "cell_type": "code",
   "execution_count": null,
   "id": "26598fd3-48ca-4d48-9cfc-057cdacc315e",
   "metadata": {},
   "outputs": [],
   "source": [
    "#pip install folium\n"
   ]
  },
  {
   "cell_type": "code",
   "execution_count": null,
   "id": "08a15582-9eae-41e7-b6b6-086db478015b",
   "metadata": {},
   "outputs": [],
   "source": [
    "import pandas as pd\n",
    "import matplotlib.pyplot as plt\n",
    "import numpy as np\n",
    "import seaborn as sns\n",
    "import folium\n",
    "\n",
    "# Load data\n",
    "temperature_df = pd.read_csv(r\"C:\\Users\\shiby\\Downloads\\temperature.csv\")\n",
    "binsize_df = pd.read_csv(r\"C:\\Users\\shiby\\Downloads\\BinSize.csv\")\n",
    "\n",
    "# Display first few rows to understand the structure\n",
    "#print(temperature_df.head())\n",
    "print(binsize_df.head())\n"
   ]
  },
  {
   "cell_type": "code",
   "execution_count": null,
   "id": "30d6eecd-cdc4-4499-887f-2ba937fa35d7",
   "metadata": {},
   "outputs": [],
   "source": [
    "# Convert 'date' to datetime format\n",
    "temperature_df['Date'] = pd.to_datetime(temperature_df['Date'])\n",
    "\n",
    "# Extract year and day of the year\n",
    "temperature_df['year'] = temperature_df['Date'].dt.year\n",
    "temperature_df['day_of_year'] = temperature_df['Date'].dt.dayofyear\n",
    "\n",
    "# Remove leap day (Feb 29)\n",
    "temperature_df = temperature_df[~((temperature_df['Date'].dt.month == 2) & (temperature_df['Date'].dt.day == 29))]\n",
    "\n",
    "# Separate data for 2005-2014 and 2015\n",
    "data_2005_2014 = temperature_df[(temperature_df['year'] >= 2005) & (temperature_df['year'] <= 2014)]\n",
    "data_2015 = temperature_df[temperature_df['year'] == 2015]\n",
    "\n",
    "# Convert temperature from tenths of degrees C to degrees C\n",
    "data_2005_2014['value'] = data_2005_2014['Data_Value'] / 10.0\n",
    "data_2015['value'] = data_2015['Data_Value'] / 10.0\n"
   ]
  },
  {
   "cell_type": "code",
   "execution_count": null,
   "id": "e51f8036-9a31-46aa-bc9b-f7eed6518c64",
   "metadata": {},
   "outputs": [],
   "source": [
    "data_2005_2014.tail()"
   ]
  },
  {
   "cell_type": "code",
   "execution_count": null,
   "id": "04d7d290-af55-47b0-8e72-52b682dd6761",
   "metadata": {},
   "outputs": [],
   "source": [
    "# Calculate record highs and lows for each day of the year from 2005-2014\n",
    "record_highs = data_2005_2014[data_2005_2014['Element'] == 'TMAX'].groupby('day_of_year')['value'].max()\n",
    "record_lows = data_2005_2014[data_2005_2014['Element'] == 'TMIN'].groupby('day_of_year')['value'].min()\n"
   ]
  },
  {
   "cell_type": "code",
   "execution_count": null,
   "id": "f997d864",
   "metadata": {},
   "outputs": [],
   "source": [
    "data_2015.head()"
   ]
  },
  {
   "cell_type": "code",
   "execution_count": null,
   "id": "4579b0cc-f773-4473-a70f-55c1ed023ac1",
   "metadata": {
    "scrolled": true
   },
   "outputs": [],
   "source": [
    "# Create a line graph showing record highs and lows with shaded area between\n",
    "plt.figure(figsize=(15, 10))\n",
    "plt.plot(record_highs.index, record_highs.values, label='Record High (2005-2014)', color='red')\n",
    "plt.plot(record_lows.index, record_lows.values, label='Record Low (2005-2014)', color='blue')\n",
    "plt.fill_between(record_highs.index, record_lows.values, record_highs.values, color='grey', alpha=0.3)\n",
    "\n",
    "# Customize the plot\n",
    "plt.title('Record High and Low Temperatures (2005-2014) near Ann Arbor, Michigan')\n",
    "plt.xlabel('Day of Year')\n",
    "plt.ylabel('Temperature (°C)')\n",
    "plt.legend()\n",
    "plt.grid(True)\n",
    "\n",
    "# Set x-ticks to show months\n",
    "plt.xticks(np.linspace(1, 365, num=13), \n",
    "           ['Jan', 'Feb', 'Mar', 'Apr', 'May', 'Jun', 'Jul', 'Aug', 'Sep', 'Oct', 'Nov', 'Dec', 'Jan'])\n",
    "\n",
    "plt.show()\n",
    "\n"
   ]
  },
  {
   "cell_type": "code",
   "execution_count": null,
   "id": "63d8a44e",
   "metadata": {
    "scrolled": false
   },
   "outputs": [],
   "source": [
    "# Filter for the period 2005-2014\n",
    "record_period = temperature_df[(temperature_df['year'] >= 2005) & (temperature_df['year'] <= 2014)]\n",
    "\n",
    "\n",
    "# Calculate record highs and lows for each day of the year\n",
    "record_highs = record_period[record_period['Element'] == 'TMAX'].groupby('day_of_year')['Data_Value'].max()\n",
    "record_lows = record_period[record_period['Element'] == 'TMIN'].groupby('day_of_year')['Data_Value'].min()\n",
    "\n",
    "# Filter for the year 2015\n",
    "data_2015 = temperature_df[temperature_df['year'] == 2015]\n",
    "\n",
    "\n",
    "# Identify 2015 data points that broke the records\n",
    "highs_2015 = data_2015[data_2015['Element'] == 'TMAX']\n",
    "lows_2015 = data_2015[data_2015['Element'] == 'TMIN']\n",
    "\n",
    "highs_2015_broken = highs_2015[highs_2015['Data_Value'] > highs_2015['day_of_year'].map(record_highs)]\n",
    "lows_2015_broken = lows_2015[lows_2015['Data_Value'] < lows_2015['day_of_year'].map(record_lows)]\n",
    "\n",
    "# Plotting\n",
    "plt.figure(figsize=(15, 10))\n",
    "\n",
    "# Plot record highs and lows\n",
    "days = np.arange(1, 366)  # Days of the year from 1 to 365\n",
    "plt.plot(days, record_highs.reindex(days).values / 10, label='Record Highs (2005-2014)', color='red')\n",
    "plt.plot(days, record_lows.reindex(days).values / 10, label='Record Lows (2005-2014)', color='blue')\n",
    "\n",
    "# Fill between the record highs and lows\n",
    "plt.fill_between(days, record_lows.reindex(days).values / 10, record_highs.reindex(days).values / 10, facecolor='grey', alpha=0.3)\n",
    "\n",
    "# Overlay 2015 record-breaking data points\n",
    "plt.scatter(highs_2015_broken['day_of_year'], highs_2015_broken['Data_Value'] / 10, color='red', label='2015 Record Breaking Highs')\n",
    "plt.scatter(lows_2015_broken['day_of_year'], lows_2015_broken['Data_Value'] / 10, color='blue', label='2015 Record Breaking Lows')\n",
    "\n",
    "# Formatting\n",
    "plt.xlabel('Day of the Year')\n",
    "plt.ylabel('Temperature (°C)')\n",
    "plt.title('Record High and Low Temperatures (2005-2014) with 2015 Record Breakers')\n",
    "plt.legend()\n",
    "plt.grid(True)\n",
    "\n",
    "# Set x-ticks to show months\n",
    "plt.xticks(np.linspace(1, 365, num=13), \n",
    "           ['Jan', 'Feb', 'Mar', 'Apr', 'May', 'Jun', 'Jul', 'Aug', 'Sep', 'Oct', 'Nov', 'Dec', 'Jan'])\n",
    "\n",
    "plt.show()\n"
   ]
  },
  {
   "cell_type": "markdown",
   "id": "ac0edf0a",
   "metadata": {},
   "source": [
    "# inference:\n",
    "\n",
    "## In the mid to end of february& march starting in 2015 ,  the days  have crossed the record_low temperature created  in the 10 year(2004-2015) period, thus having cooler days in february and march.\n",
    "\n",
    "##  In the december month of 2015 , the days have crossed  the record-high temperature created in 10 year period(2004-2015) thus having hotter days in december.\n"
   ]
  },
  {
   "cell_type": "code",
   "execution_count": null,
   "id": "096ab5c7-e35a-46f2-a3bd-ae5c68cc1b09",
   "metadata": {},
   "outputs": [],
   "source": [
    "# Visualize the stations on a map\n",
    "station_locations = binsize_df[['ID','LATITUDE','LONGITUDE']].drop_duplicates()\n",
    "\n",
    "# Create a map centered around Ann Arbor, Michigan\n",
    "ann_arbor_map = folium.Map(location=[42.2808, -83.7430], zoom_start=10)\n",
    "\n",
    "# Add station markers to the map\n",
    "for _, row in station_locations.iterrows():\n",
    "    folium.Marker(location=[row['LATITUDE'], row['LONGITUDE']], popup=row['ID']).add_to(ann_arbor_map)\n",
    "\n",
    "# Display the map\n",
    "ann_arbor_map\n"
   ]
  },
  {
   "cell_type": "code",
   "execution_count": null,
   "id": "c92b7f5c-ab28-4586-b663-1adc1b563b7c",
   "metadata": {},
   "outputs": [],
   "source": []
  },
  {
   "cell_type": "code",
   "execution_count": null,
   "id": "b4e04de6",
   "metadata": {
    "scrolled": true
   },
   "outputs": [],
   "source": [
    "import matplotlib.dates as mdates\n",
    "\n",
    "tmax_2015 = data_2015[data_2015['Element'] == 'TMAX']\n",
    "tmin_2015 = data_2015[data_2015['Element'] == 'TMIN']\n",
    "\n",
    "\n",
    "\n",
    "# Resample data by month and calculate mean temperature\n",
    "monthly_tmax_2015 = tmax_2015.resample('M', on='Date').mean()\n",
    "monthly_tmin_2015 = tmin_2015.resample('M', on='Date').mean()\n",
    "\n",
    "# Generate a list of the first day of each month for 2015\n",
    "months = pd.date_range(start='2015-01-01', end='2015-12-31', freq='MS')\n",
    "\n",
    "# Plotting the data\n",
    "plt.figure(figsize=(12, 6))\n",
    "\n",
    "bar_width = 10\n",
    "offset = bar_width / 2\n",
    "\n",
    "# Plot TMAX and TMIN as bar plots with offset\n",
    "plt.bar(months - pd.DateOffset(days=offset), monthly_tmax_2015['Data_Value']/10, width=bar_width, label='TMAX', color='red', alpha=0.6)\n",
    "plt.bar(months + pd.DateOffset(days=offset), monthly_tmin_2015['Data_Value']/10, width=bar_width, label='TMIN', color='blue', alpha=0.6)\n",
    "\n",
    "\n",
    "# Formatting the x-axis\n",
    "plt.gca().xaxis.set_major_locator(mdates.MonthLocator())\n",
    "plt.gca().xaxis.set_major_formatter(mdates.DateFormatter('%b'))\n",
    "\n",
    "plt.xlabel('Month')\n",
    "plt.ylabel('Temperature (°C)')\n",
    "plt.title('Average Monthly Temperatures in 2015 near Ann Arbor, Michigan')\n",
    "plt.legend()\n",
    "plt.grid(True)\n",
    "\n",
    "# Set the x-ticks to the start of each month\n",
    "plt.xticks(months)\n",
    "\n",
    "plt.show()\n",
    "\n",
    " "
   ]
  },
  {
   "cell_type": "markdown",
   "id": "5ef38e7f",
   "metadata": {},
   "source": [
    "# inference\n",
    "\n",
    "## from the above graph we have a pattern of temperature rising from negative to positive from january to december having the highest minimum temperature in february and  max high temperature in july"
   ]
  },
  {
   "cell_type": "code",
   "execution_count": null,
   "id": "5fc7696e",
   "metadata": {
    "scrolled": true
   },
   "outputs": [],
   "source": [
    "plt.figure(figsize=(12, 6))\n",
    "sns.boxplot(data=[tmax_2015['Data_Value']/10, tmin_2015['Data_Value']/10], palette='coolwarm')\n",
    "plt.xticks([0, 1], ['TMAX', 'TMIN'])\n",
    "plt.ylabel('Temperature (°C)')\n",
    "plt.title('Distribution of Daily Temperatures in 2015 near Ann Arbor, Michigan')\n",
    "plt.grid(True)\n",
    "plt.show()\n"
   ]
  },
  {
   "cell_type": "markdown",
   "id": "3a81269f",
   "metadata": {},
   "source": [
    "# inference\n",
    "\n",
    "## the maximum temperature is centered around 8-25 degree celsius having  17 as  the mean.\n",
    "## the minimum temperature is centered around -2 to 12 degree celsius having 5 as the mean"
   ]
  },
  {
   "cell_type": "code",
   "execution_count": null,
   "id": "d64ddc32",
   "metadata": {
    "scrolled": true
   },
   "outputs": [],
   "source": [
    "import pandas as pd\n",
    "import matplotlib.pyplot as plt\n",
    "import seaborn as sns\n",
    "\n",
    "\n",
    "# Resample data by week and calculate mean temperature\n",
    "weekly_tmax_2015 = tmax_2015.resample('W-MON', on='Date').mean().reset_index()\n",
    "weekly_tmin_2015 = tmin_2015.resample('W-MON', on='Date').mean().reset_index()\n",
    "\n",
    "# Create subplots\n",
    "fig, axes = plt.subplots(nrows=3, ncols=4, figsize=(20, 15), sharex=True, sharey=True)\n",
    "fig.suptitle('Weekly Average Maximum and Minimum Temperatures in 2015 near Ann Arbor, Michigan', fontsize=20)\n",
    "\n",
    "# Plot data for each month\n",
    "for i, month in enumerate(range(1, 13)):\n",
    "    ax = axes[i // 4, i % 4]\n",
    "    \n",
    "    month_tmax = weekly_tmax_2015[weekly_tmax_2015['Date'].dt.month == month]\n",
    "    month_tmin = weekly_tmin_2015[weekly_tmin_2015['Date'].dt.month == month]\n",
    "    \n",
    "    ax.scatter(month_tmax['Date'].dt.day, month_tmax['Data_Value']/10, color='red', label='TMAX', alpha=0.6)\n",
    "    ax.scatter(month_tmin['Date'].dt.day, month_tmin['Data_Value']/10, color='blue', label='TMIN', alpha=0.6)\n",
    "    \n",
    "    ax.set_title(pd.to_datetime(month, format='%m').strftime('%B'))\n",
    "    ax.set_xlabel('Day')\n",
    "    ax.set_ylabel('Temperature (°C)')\n",
    "    ax.grid(True)\n",
    "\n",
    "# Adjust layout and add legend\n",
    "plt.tight_layout(rect=[0, 0, 1, 0.95])\n",
    "fig.legend(['TMAX', 'TMIN'], loc='upper right')\n",
    "plt.show()\n"
   ]
  },
  {
   "cell_type": "markdown",
   "id": "83f3e962",
   "metadata": {},
   "source": [
    "# inference:\n",
    "\n",
    "## june, july, august,september being the hottest months having the min and max temperature consistenly above 10 and 20 degree celsius respectively\n",
    "## january, february being the coldest months with february being the most coldest  having tmin consistenly below -10 degree celsius and tmax below  0 degree celsius.\n"
   ]
  },
  {
   "cell_type": "code",
   "execution_count": null,
   "id": "7b41b3af",
   "metadata": {
    "scrolled": true
   },
   "outputs": [],
   "source": [
    "plt.figure(figsize=(12, 6))\n",
    "#tmax_2015['value'].hist(alpha=0.5, bins=30, color='red', label='TMAX')\n",
    "\n",
    "n, bins, patches = plt.hist(tmin_2015['Data_Value']/10, bins=30, alpha=0.5, color='blue', label='TMIN')\n",
    "max_freq = n.max()\n",
    "max_bin = bins[n.argmax()]\n",
    "\n",
    "# Label the most frequent bin\n",
    "plt.text(max_bin, max_freq, f'\\n,Max_bin\\n{max_bin}', ha='center', va='bottom', color='black')\n",
    "\n",
    "# Add labels and title\n",
    "plt.xlabel('Temperature (°C)')\n",
    "plt.ylabel('Frequency')\n",
    "plt.title('Histogram of  Minimum Daily Temperatures in 2015')\n",
    "plt.legend()\n",
    "plt.show()\n"
   ]
  },
  {
   "cell_type": "markdown",
   "id": "22cec204",
   "metadata": {},
   "source": [
    "# inference:\n",
    "\n",
    "## The max count for the minimum daily temperature in 2015 (above 600) is for 12.66 degree celsius"
   ]
  },
  {
   "cell_type": "code",
   "execution_count": null,
   "id": "2de59f69",
   "metadata": {},
   "outputs": [],
   "source": [
    "plt.figure(figsize=(12, 6))\n",
    "\n",
    "n, bins, patches = plt.hist(tmax_2015['Data_Value']/10, bins=30, alpha=0.5, color='red', label='TMAX')\n",
    "max_freq = n.max()\n",
    "max_bin = bins[n.argmax()]\n",
    "\n",
    "# Label the most frequent bin\n",
    "plt.text(max_bin, max_freq, f'\\n,Max_bin\\n{max_bin}', ha='center', va='bottom', color='black')\n",
    "\n",
    "# Add labels and title\n",
    "plt.xlabel('Temperature (°C)')\n",
    "plt.ylabel('Frequency')\n",
    "plt.title('Histogram of Maximum Daily Temperatures in 2015')\n",
    "plt.legend()\n",
    "plt.show()"
   ]
  },
  {
   "cell_type": "markdown",
   "id": "50847bf5",
   "metadata": {},
   "source": [
    "# inference:\n",
    "\n",
    "## The max count for the maximum daily temperature in 2015 (above 580) is for 25.66 degree celsius"
   ]
  },
  {
   "cell_type": "code",
   "execution_count": null,
   "id": "f96c7c26",
   "metadata": {},
   "outputs": [],
   "source": []
  }
 ],
 "metadata": {
  "kernelspec": {
   "display_name": "Python 3 (ipykernel)",
   "language": "python",
   "name": "python3"
  },
  "language_info": {
   "codemirror_mode": {
    "name": "ipython",
    "version": 3
   },
   "file_extension": ".py",
   "mimetype": "text/x-python",
   "name": "python",
   "nbconvert_exporter": "python",
   "pygments_lexer": "ipython3",
   "version": "3.9.13"
  }
 },
 "nbformat": 4,
 "nbformat_minor": 5
}
